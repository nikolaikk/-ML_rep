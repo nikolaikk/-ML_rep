{
 "cells": [
  {
   "cell_type": "code",
   "execution_count": 1,
   "metadata": {},
   "outputs": [
    {
     "data": {
      "text/html": [
       "<style>.container { width:100% !important; }</style>"
      ],
      "text/plain": [
       "<IPython.core.display.HTML object>"
      ]
     },
     "metadata": {},
     "output_type": "display_data"
    }
   ],
   "source": [
    "from __future__ import print_function\n",
    "import matplotlib.pyplot as plt\n",
    "from matplotlib import cm\n",
    "from matplotlib.gridspec import GridSpec\n",
    "from mpl_toolkits.mplot3d import Axes3D  # noqa: F401 unused import\n",
    "import numpy as np\n",
    "from sklearn.datasets import make_regression\n",
    "from ipywidgets import interact, interactive, fixed, interact_manual\n",
    "import ipywidgets as widgets\n",
    "\n",
    "# rc('text', usetex=True)\n",
    "plt.style.use(\"ggplot\")\n",
    "plt.rcParams[\"figure.figsize\"] = [20, 12]\n",
    "from IPython.core.display import display, HTML\n",
    "display(HTML(\"<style>.container { width:100% !important; }</style>\"))\n",
    "%matplotlib inline"
   ]
  },
  {
   "cell_type": "code",
   "execution_count": 2,
   "metadata": {},
   "outputs": [
    {
     "data": {
      "application/vnd.jupyter.widget-view+json": {
       "model_id": "8068ff11e59c4bb58168524dee171dde",
       "version_major": 2,
       "version_minor": 0
      },
      "text/plain": [
       "interactive(children=(FloatSlider(value=0.5, description='m', max=5.0, min=-4.0), FloatSlider(value=2.0, descr…"
      ]
     },
     "metadata": {},
     "output_type": "display_data"
    }
   ],
   "source": [
    "X2, y = make_regression(n_samples=100, n_features=2, random_state=10)\n",
    "y = y/np.max(y)+2\n",
    "x = X2[:,0]\n",
    "x_fit = np.linspace(np.min(x), np.max(x))\n",
    "# For plots\n",
    "mconf = (-4,5)\n",
    "nconf = (-2,6)\n",
    "ms = np.arange(*mconf, 0.25)\n",
    "ns = np.arange(*nconf, 0.25)\n",
    "Ms, Ns = np.meshgrid(ms, ns)\n",
    "\n",
    "mse_m = np.zeros(len(ms))\n",
    "mse_n = np.zeros(len(ns))\n",
    "mse = np.zeros([len(ms),len(ns)])\n",
    "\n",
    "def plot_(m=0.5,n=2,polar_angle=60,azimuthal_angle=30):\n",
    "\n",
    "    # Set up a figure twice as tall as it is wide\n",
    "#     fig = plt.figure(figsize=plt.figaspect(2.))\n",
    "    fig = plt.figure(figsize=[16,10])\n",
    "    fig.suptitle('A tale of 2 subplots')\n",
    "\n",
    "    # Plot1\n",
    "    ax = fig.add_subplot(2, 2, 1)\n",
    "    ax.scatter(x,y,s=80)\n",
    "\n",
    "    ax.plot(x_fit, m*x_fit+n, c = \"blue\", linewidth=4)\n",
    "    \n",
    "    ax.plot()\n",
    "    ax.set_xlabel(\"Feature 1\")\n",
    "    ax.set_ylabel(\"Target $\\it{y}$\")\n",
    "    ax.set_xlim([np.min(x_fit)*1.1,np.max(x_fit)*1.1])\n",
    "    ax.set_ylim([np.min(y)*1.1,np.max(y)*1.1])\n",
    "    \n",
    "    \n",
    "    # Plot 2\n",
    "    ax = fig.add_subplot(2, 2, 2)\n",
    "    for i, mi in enumerate(ms):\n",
    "        mse_m[i] = np.sum((y-mi*x-n)**2)\n",
    "    ax.plot(ms, mse_m, alpha = 0.3, c=\"black\", linewidth = 4)\n",
    "    ax.scatter(m,np.sum((y-m*x-n)**2), c = \"blue\",s = 300)\n",
    "    ax.set_xlabel(r\"$\\bf{m}$ parameter\")\n",
    "    ax.set_ylabel(\"MSE\")\n",
    "\n",
    "\n",
    "    \n",
    "    # Plot 3\n",
    "    ax = fig.add_subplot(2, 2, 4)\n",
    "    for i, ni in enumerate(ns):\n",
    "        mse_n[i] = np.sum((y-m*x-ni)**2)\n",
    "    ax.plot(ns, mse_n, alpha = 0.3, c=\"black\", linewidth = 4)\n",
    "    ax.scatter(n,np.sum((y-m*x-n)**2), c = \"blue\",s = 300)\n",
    "    ax.set_xlabel(r\"$\\bf{n}$ parameter\")\n",
    "    ax.set_ylabel(\"MSE\")    \n",
    "\n",
    "    # Plot 4\n",
    "    ax = fig.add_subplot(2, 2, 3, projection='3d')\n",
    "    for i, mi in enumerate(ms):\n",
    "        for j, nj in enumerate(ns):\n",
    "            mse[i,j] = np.sum((y-mi*x-nj)**2)\n",
    "    surf = ax.plot_surface(Ms, Ns, mse.T, rstride=1, cstride=1, \n",
    "                    linewidth=0, antialiased=False, alpha = 0.3, cmap=cm.ocean)\n",
    "    ax.scatter3D(m,n,np.sum((y-m*x-n)**2), c = \"blue\",s = 300)\n",
    "    ax.set_xlabel(r\"$\\bf{m}$ parameter\")\n",
    "    ax.set_ylabel(r\"$\\bf{n}$ parameter\")\n",
    "    ax.set_zlabel(\"MSE\")\n",
    "    ax.view_init(polar_angle,azimuthal_angle)\n",
    "    surf = fig.colorbar(surf, shrink=0.5, aspect=5)\n",
    "\n",
    "\n",
    "    \n",
    "# plot_(m =1, n =1)\n",
    "interactive_plot = interactive(plot_, m=(*mconf, 0.1), n=(*nconf, 0.1), \n",
    "                               polar_angle=(0,90,1),azimuthal_angle=(0,360,1))\n",
    "output = interactive_plot.children[-1]\n",
    "output.layout.height = '650px'\n",
    "output.layout.width = '900px'\n",
    "interactive_plot"
   ]
  },
  {
   "cell_type": "markdown",
   "metadata": {},
   "source": [
    "$$\\hat{y}_i = m x_i + n $$\n",
    "$$MSE = \\frac{1}{N}\\sum_{i=1}^{N}{\\Big(y_i - \\hat{y}_i\\Big)^2}$$"
   ]
  },
  {
   "cell_type": "code",
   "execution_count": 19,
   "metadata": {},
   "outputs": [
    {
     "data": {
      "application/vnd.jupyter.widget-view+json": {
       "model_id": "1447090bc1294194a0a1e5d693980d26",
       "version_major": 2,
       "version_minor": 0
      },
      "text/plain": [
       "interactive(children=(FloatSlider(value=0.5, description='m', max=5.0, min=-4.0), FloatSlider(value=2.0, descr…"
      ]
     },
     "metadata": {},
     "output_type": "display_data"
    }
   ],
   "source": [
    "X2, y = make_regression(n_samples=100, n_features=2, random_state=10)\n",
    "y = y/np.max(y)+2\n",
    "x = X2[:,0]\n",
    "x_fit = np.linspace(np.min(x), np.max(x))\n",
    "# For plots\n",
    "mconf = (-4,5)\n",
    "nconf = (-2,6)\n",
    "ms = np.arange(*mconf, 0.25)\n",
    "ns = np.arange(*nconf, 0.25)\n",
    "Ms, Ns = np.meshgrid(ms, ns)\n",
    "\n",
    "mse_m = np.zeros(len(ms))\n",
    "mse_n = np.zeros(len(ns))\n",
    "mse = np.zeros([len(ms),len(ns)])\n",
    "\n",
    "def plot_(m=0.5,n=2,polar_angle=60,azimuthal_angle=30):\n",
    "\n",
    "    # Set up a figure twice as tall as it is wide\n",
    "#     fig = plt.figure(figsize=plt.figaspect(2.))\n",
    "    fig = plt.figure(figsize=[30,15])\n",
    "    fig.suptitle('A tale of 2 subplots')\n",
    "    gs=GridSpec(3,3)\n",
    "\n",
    "    # Plot1\n",
    "    ax = fig.add_subplot(gs[0,0])\n",
    "    ax.scatter(x,y,s=80)\n",
    "\n",
    "    ax.plot(x_fit, m*x_fit+n, c = \"blue\", linewidth=4)\n",
    "    \n",
    "    ax.plot()\n",
    "    ax.set_xlabel(\"Feature 1\")\n",
    "    ax.set_ylabel(\"Target $\\it{y}$\")\n",
    "    ax.set_xlim([np.min(x_fit)*1.1,np.max(x_fit)*1.1])\n",
    "    ax.set_ylim([np.min(y)*1.1,np.max(y)*1.1])\n",
    "    \n",
    "    \n",
    "    # Plot 2\n",
    "    ax = fig.add_subplot(gs[0,1])\n",
    "    for i, mi in enumerate(ms):\n",
    "        mse_m[i] = np.sum((y-mi*x-n)**2)\n",
    "    ax.plot(ms, mse_m, alpha = 0.3, c=\"black\", linewidth = 4)\n",
    "    ax.scatter(m,np.sum((y-m*x-n)**2), c = \"blue\",s = 300)\n",
    "    ax.set_xlabel(r\"$\\bf{m}$ parameter\")\n",
    "    ax.set_ylabel(\"MSE\")\n",
    "\n",
    "\n",
    "    \n",
    "    # Plot 3\n",
    "    ax = fig.add_subplot(gs[0,2])\n",
    "    for i, ni in enumerate(ns):\n",
    "        mse_n[i] = np.sum((y-m*x-ni)**2)\n",
    "    ax.plot(ns, mse_n, alpha = 0.3, c=\"black\", linewidth = 4)\n",
    "    ax.scatter(n,np.sum((y-m*x-n)**2), c = \"blue\",s = 300)\n",
    "    ax.set_xlabel(r\"$\\bf{n}$ parameter\")\n",
    "    ax.set_ylabel(\"MSE\")    \n",
    "\n",
    "    # Plot 4\n",
    "    ax = fig.add_subplot(gs[1:,:], projection='3d')\n",
    "    for i, mi in enumerate(ms):\n",
    "        for j, nj in enumerate(ns):\n",
    "            mse[i,j] = np.sum((y-mi*x-nj)**2)\n",
    "    surf = ax.plot_surface(Ms, Ns, mse.T, rstride=1, cstride=1, \n",
    "                    linewidth=0, antialiased=False, alpha = 0.3, cmap=cm.ocean)\n",
    "    ax.scatter3D(m,n,np.sum((y-m*x-n)**2), c = \"blue\",s = 300)\n",
    "    ax.set_xlabel(r\"$\\bf{m}$ parameter\")\n",
    "    ax.set_ylabel(r\"$\\bf{n}$ parameter\")\n",
    "    ax.set_zlabel(\"MSE\")\n",
    "    ax.view_init(polar_angle,azimuthal_angle)\n",
    "    surf = fig.colorbar(surf, shrink=0.7, aspect=5)\n",
    "\n",
    "\n",
    "    \n",
    "# plot_(m =1, n =1)\n",
    "interactive_plot = interactive(plot_, m=(*mconf, 0.1), n=(*nconf, 0.1), \n",
    "                               polar_angle=(0,90,1),azimuthal_angle=(0,360,1))\n",
    "output = interactive_plot.children[-1]\n",
    "output.layout.height = '900px'\n",
    "output.layout.width = '1500px'\n",
    "interactive_plot\n",
    "# plt.rcParams[\"figure.figsize\"] = [10, 6]\n"
   ]
  }
 ],
 "metadata": {
  "hide_input": false,
  "kernelspec": {
   "display_name": "Python 3",
   "language": "python",
   "name": "python3"
  },
  "language_info": {
   "codemirror_mode": {
    "name": "ipython",
    "version": 3
   },
   "file_extension": ".py",
   "mimetype": "text/x-python",
   "name": "python",
   "nbconvert_exporter": "python",
   "pygments_lexer": "ipython3",
   "version": "3.6.9"
  },
  "latex_envs": {
   "LaTeX_envs_menu_present": true,
   "autoclose": false,
   "autocomplete": true,
   "bibliofile": "biblio.bib",
   "cite_by": "apalike",
   "current_citInitial": 1,
   "eqLabelWithNumbers": true,
   "eqNumInitial": 1,
   "hotkeys": {
    "equation": "Ctrl-E",
    "itemize": "Ctrl-I"
   },
   "labels_anchors": false,
   "latex_user_defs": false,
   "report_style_numbering": false,
   "user_envs_cfg": false
  }
 },
 "nbformat": 4,
 "nbformat_minor": 2
}
